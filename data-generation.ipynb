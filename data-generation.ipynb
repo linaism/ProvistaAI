{
 "cells": [
  {
   "cell_type": "markdown",
   "metadata": {},
   "source": [
    "# 1. Synthetic Data Generation"
   ]
  },
  {
   "cell_type": "markdown",
   "metadata": {},
   "source": [
    "## 1.1 Imports"
   ]
  },
  {
   "cell_type": "code",
   "execution_count": 2,
   "id": "75def302-e344-4af7-ae00-786c729fffe1",
   "metadata": {},
   "outputs": [],
   "source": [
    "import numpy as np\n",
    "from faker import Faker\n",
    "import pandas as pd\n",
    "import random\n",
    "import datetime"
   ]
  },
  {
   "cell_type": "markdown",
   "metadata": {},
   "source": [
    "## 1.2 Generate Data"
   ]
  },
  {
   "cell_type": "code",
   "execution_count": 35,
   "metadata": {},
   "outputs": [],
   "source": [
    "COLUMNS = ['Patient ID', 'Name', 'Ethnicity', 'Age', 'Location', 'Total PSA (ng/ml)', 'Clinically Significant', 'PI-RAD', 'MRI Date', 'Tumor Marker Results', 'Conclusions', 'Anonimized']\n",
    "ETHNICITIES = [\"White\", \"Black\", \"Hispanic\", \"Asian\", \"Native American\", \"Mixed\", \"Other\"]\n",
    "\n",
    "fake = Faker()\n",
    "fake.locale = 'en_US'\n",
    "data = {col: [] for col in COLUMNS}\n",
    "\n",
    "ages = np.random.normal(50, 15, size=10000)\n",
    "ages = np.clip(ages, 20, 90)\n",
    "data['Age'] = [int(age) for age in ages]\n",
    "\n",
    "for i in range(10000):\n",
    "\n",
    "    if random.random() < 0.3: \n",
    "        data['Patient ID'].append('' if random.random() < 0.5 else 'PRO' + str(i).zfill(8))\n",
    "        data['Name'].append('' if random.random() < 0.5 else fake.first_name_male() + ' ' + fake.last_name())\n",
    "        data['Ethnicity'].append('' if random.random() < 0.5 else random.choice(ETHNICITIES))\n",
    "        data['Location'].append('' if random.random() < 0.5 else fake.address().replace('\\n', ', '))\n",
    "        data['Anonimized'].append('Yes')\n",
    "\n",
    "    else:\n",
    "        data['Patient ID'].append('PRO' + str(i).zfill(8))\n",
    "        data['Name'].append(fake.first_name_male() + ' ' + fake.last_name()) \n",
    "        data['Ethnicity'].append(random.choice(ETHNICITIES))\n",
    "        data['Location'].append(fake.address().replace('\\n', ', '))\n",
    "        data['Anonimized'].append('No')\n",
    "\n",
    "    data['MRI Date'].append(fake.date_between(start_date='-1y', end_date='today'))\n",
    "\n",
    "    total_psa = round(random.uniform(0, 25), 2)\n",
    "    clinically_significant = 'No'\n",
    "    pi_rad = random.randint(1, 2)\n",
    "    tumor_marker_results = 'Low'\n",
    "    conclusions = 'WE SUGGEST TO DISCARD MALIGNANCY.'\n",
    "\n",
    "    if total_psa > 4:\n",
    "        clinically_significant = 'Yes'\n",
    "        pi_rad = random.randint(3, 5)\n",
    "    \n",
    "    if pi_rad > 3:\n",
    "        tumor_marker_results = random.choice(['Moderate', 'High'])\n",
    "        \n",
    "    if tumor_marker_results == 'High':\n",
    "        conclusions = 'POSSIBLE MALIGNANCY. BIOPSY RECOMMENDED.'\n",
    "    elif tumor_marker_results == 'Moderate':\n",
    "        conclusions = 'WE SUGGEST TO FOLLOW UP IN 6 MONTHS.'\n",
    "\n",
    "    data['Total PSA (ng/ml)'].append(total_psa)\n",
    "    data['PI-RAD'].append(pi_rad)\n",
    "    data['Tumor Marker Results'].append(tumor_marker_results)\n",
    "    data['Clinically Significant'].append(clinically_significant)\n",
    "    data['Conclusions'].append(conclusions)"
   ]
  },
  {
   "cell_type": "markdown",
   "metadata": {},
   "source": [
    "## 1.3 Store in CSV File"
   ]
  },
  {
   "cell_type": "code",
   "execution_count": 36,
   "metadata": {},
   "outputs": [],
   "source": [
    "df = pd.DataFrame(data)\n",
    "df.to_csv('data.csv')"
   ]
  },
  {
   "cell_type": "code",
   "execution_count": null,
   "metadata": {},
   "outputs": [],
   "source": []
  }
 ],
 "metadata": {
  "kernelspec": {
   "display_name": "Python 3 (ipykernel)",
   "language": "python",
   "name": "python3"
  },
  "language_info": {
   "codemirror_mode": {
    "name": "ipython",
    "version": 3
   },
   "file_extension": ".py",
   "mimetype": "text/x-python",
   "name": "python",
   "nbconvert_exporter": "python",
   "pygments_lexer": "ipython3",
   "version": "3.11.7"
  }
 },
 "nbformat": 4,
 "nbformat_minor": 5
}
