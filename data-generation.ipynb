{
 "cells": [
  {
   "cell_type": "markdown",
   "metadata": {},
   "source": [
    "# 1. Synthetic Data Generation"
   ]
  },
  {
   "cell_type": "markdown",
   "metadata": {},
   "source": [
    "## 1.1 Imports"
   ]
  },
  {
   "cell_type": "code",
   "execution_count": 2,
   "id": "75def302-e344-4af7-ae00-786c729fffe1",
   "metadata": {},
   "outputs": [],
   "source": [
    "import numpy as np\n",
    "from faker import Faker\n",
    "import pandas as pd\n",
    "import random\n",
    "import datetime"
   ]
  },
  {
   "cell_type": "markdown",
   "metadata": {},
   "source": [
    "## 1.2 Generate Data"
   ]
  },
  {
   "cell_type": "code",
   "execution_count": 8,
   "metadata": {},
   "outputs": [],
   "source": [
    "COLUMNS = ['ID', 'Name', 'Ethnicity', 'Age', 'Location', 'Total PSA (ng/ml)', 'Clinically Significant', 'PI-RAD', 'MRI Date', 'Tumor Marker Results', 'Conclusions']\n",
    "ETHNICITIES = [\"White\", \"Black\", \"Hispanic\", \"Asian\", \"Native American\", \"Mixed\", \"Other\"]\n",
    "\n",
    "fake = Faker()\n",
    "data = {col: [] for col in COLUMNS}\n",
    "\n",
    "for i in range(10000):\n",
    "    data['ID'].append('PRO' + str(i).zfill(8))\n",
    "    data['Name'].append(fake.name())\n",
    "    data['Ethnicity'].append(random.choice(ETHNICITIES))\n",
    "    data['Age'].append(random.randint(20, 85))\n",
    "    data['Location'].append(fake.address().replace('\\n', ', '))\n",
    "    data['Total PSA (ng/ml)'].append(round(random.uniform(0, 100), 2))\n",
    "    data['Clinically Significant'].append(random.choice(['Yes', 'No']))\n",
    "    data['PI-RAD'].append(random.randint(1, 5))\n",
    "    data['MRI Date'].append(fake.date_between(start_date='-1y', end_date='today'))\n",
    "    data['Tumor Marker Results'].append(random.choice(['Low', 'Moderate', 'High']))\n",
    "    data['Conclusions'].append(random.choice(['WE SUGGEST TO DISCARD MALIGNANCY.', 'WE SUGGEST TO FOLLOW UP IN 6 MONTHS.', 'POSSIBLE MALIGNANCY. BIOPSY RECOMMENDED.']))\n"
   ]
  },
  {
   "cell_type": "markdown",
   "metadata": {},
   "source": [
    "## 1.3 Store in CSV File"
   ]
  },
  {
   "cell_type": "code",
   "execution_count": 9,
   "metadata": {},
   "outputs": [],
   "source": [
    "df = pd.DataFrame(data)\n",
    "df.to_csv('data.csv', index=False)"
   ]
  },
  {
   "cell_type": "code",
   "execution_count": null,
   "metadata": {},
   "outputs": [],
   "source": []
  }
 ],
 "metadata": {
  "kernelspec": {
   "display_name": "Python 3 (ipykernel)",
   "language": "python",
   "name": "python3"
  },
  "language_info": {
   "codemirror_mode": {
    "name": "ipython",
    "version": 3
   },
   "file_extension": ".py",
   "mimetype": "text/x-python",
   "name": "python",
   "nbconvert_exporter": "python",
   "pygments_lexer": "ipython3",
   "version": "3.11.7"
  }
 },
 "nbformat": 4,
 "nbformat_minor": 5
}
